{
  "nbformat": 4,
  "nbformat_minor": 0,
  "metadata": {
    "colab": {
      "provenance": []
    },
    "kernelspec": {
      "name": "python3",
      "display_name": "Python 3"
    },
    "language_info": {
      "name": "python"
    }
  },
  "cells": [
    {
      "cell_type": "markdown",
      "source": [
        "Para a aula de hoje:\n",
        "- Revisão do conteúdo básico e mais útil para o dia-a-dia;\n",
        "- Comunidade de Análise de Dados;\n",
        "- Site: https://www.kaggle.com;\n",
        "- Site: https://www.kaggle.com/code/andradaolteanu/plotly-advanced-global-warming-analysis;\n",
        "- Site: https://science.nasa.gov/climate-change/;\n",
        "- Bibliotecas externas do Python, pip, numpy, scipy;\n",
        "- Como acessar os dados a partir de um arquivo de fora do Python;\n",
        "- Manipulação e limpeza de dados;\n",
        "- Biblioteca matplotlib para plotagem de gráficos."
      ],
      "metadata": {
        "id": "18Z3eB7hhev4"
      }
    },
    {
      "cell_type": "markdown",
      "source": [
        "Ao longo de todas as aulas, vimos as mais diversas possíveis aplicações da linguagem de programação Python, nesta aula, gostaria de reforçar que, apenas com o básico, é possível realizar automações de trabalhos mecânicos que trariam problemas para qualquer pesquisador. O código abaixo é um exemplo de como grandes operações matemáticas podem ser difíceis de realizar, até mesmo quando é utilizada uma calculadora para auxílio. Utilizando Python, esse problema se reduz a poucas linhas de códigos e retornando, sempre, o resultado correto:"
      ],
      "metadata": {
        "id": "HpuAUFB63S_O"
      }
    },
    {
      "cell_type": "code",
      "source": [
        "a = 12839891238\n",
        "b = 1283983912\n",
        "c = 19230910239012\n",
        "z = 129381928\n",
        "f = 481\n",
        "\n",
        "print(((a + b) / c) * z * f) # Exemplo de operação trabalhosa que o Python pode realizar em menos de um segundo"
      ],
      "metadata": {
        "id": "4sD5LFTicPfC"
      },
      "execution_count": null,
      "outputs": []
    },
    {
      "cell_type": "markdown",
      "source": [
        "O mesmo também vale para funções de múltiplas variáveis e com coeficientes difíceis de se trabalhar:"
      ],
      "metadata": {
        "id": "sa3neBS23w8k"
      }
    },
    {
      "cell_type": "code",
      "source": [
        "def f(x, y):\n",
        "  return x ** 8 + 65 * y ** 4 + 12 * x ** 2 + y\n",
        "\n",
        "print(f(1, 2))"
      ],
      "metadata": {
        "id": "VroDpm8Oc3sT"
      },
      "execution_count": null,
      "outputs": []
    },
    {
      "cell_type": "markdown",
      "source": [
        "Aqui, neste exemplo, utilizamos uma biblioteca externa do Python, isto é, uma biblioteca de métodos que podem ser implementados para perfomar diferentes atividades que não seriam possíveis utilizando apenas o Python. No exemplo, temos uma função polinômial, e o método **quad()**, da biblioteca externa scipy.integrate,  retorna a integral definida em um intervalo (0,1) do meu polinômio:"
      ],
      "metadata": {
        "id": "jqiFOXzR34Hq"
      }
    },
    {
      "cell_type": "code",
      "source": [
        "import scipy.integrate as sc\n",
        "\n",
        "def f(x):\n",
        "  return x ** 6 # x ** 7 / 7\n",
        "\n",
        "integral = sc.quad(f, 0, 1)\n",
        "print(integral)"
      ],
      "metadata": {
        "id": "hxBGUqPbdhcW"
      },
      "execution_count": null,
      "outputs": []
    },
    {
      "cell_type": "markdown",
      "source": [
        "Agora, como podemos trabalhar com grandes quantidades de dados? O código abaixo trata de acessar um arquivo de texto, baixado do site da nasa https://climate.nasa.gov/vital-signs/sea-level/?intent=111. Para isto, utiliza-se os métodos **with open** e o método **readlines()**, para acessar o caminho do arquivo de texto e ler as linhas presentes no arquivo:"
      ],
      "metadata": {
        "id": "t3f6m3fDgpiq"
      }
    },
    {
      "cell_type": "code",
      "source": [
        "with open(\"/content/dados_aula04.txt\") as dados: # Para rodar esse código, é necessário sinalizar o caminho do arquivo de texto que contém os dados.\n",
        "  linhas = dados.readlines()"
      ],
      "metadata": {
        "id": "_VCN7Atolm7w"
      },
      "execution_count": null,
      "outputs": []
    },
    {
      "cell_type": "markdown",
      "source": [
        "Agora, precisamos armazenar os dados escolhidos para a análise em duas listas. Neste exemplo, iremos explorar apenas como a variação do nível do mar se alterou com o passar dos anos. Para isso, criaremos duas listas vazias, onde armazenaremos apenas os índices das minhas linhas referentes aos dados \"anos\" e \"variacao\". Para limpar os dados, utilizamos o método slice para cada linha, onde os elementos de \"anos\" estão localizados entre os índices 10 e 22, e os elementos de \"variacao\" estão localizados entre os índices 46 e 52."
      ],
      "metadata": {
        "id": "6DrcenDA5Bt3"
      }
    },
    {
      "cell_type": "code",
      "source": [
        "anos = []\n",
        "variacao = []\n",
        "\n",
        "for item in linhas[52:]: # Aqui utiliza-se o método slice para pegar apenas os elementos que não são o cabeçalho do meu arquivo de dados.\n",
        "  anos.append(float(item[10:22]))\n",
        "  variacao.append(float(item[46:52]))"
      ],
      "metadata": {
        "id": "3ZyzX_xY45ip"
      },
      "execution_count": null,
      "outputs": []
    },
    {
      "cell_type": "markdown",
      "source": [
        "Agora, a nossa lista \"anos\" deve conter todos os dados referente aos anos e a lista \"variacao\" todos os dados referente a variação do nível do mar, em milímetros, agora, basta utilizar uma biblioteca externa do python, chamada \"matplotlib\" para plotar esses dados em um gráfico:"
      ],
      "metadata": {
        "id": "JzxSuaz75fH9"
      }
    },
    {
      "cell_type": "code",
      "source": [
        "import matplotlib.pyplot as plt\n",
        "\n",
        "plt.plot(anos, variacao)\n",
        "plt.title(\"Mudanças Climáticas\")\n",
        "plt.xlabel(\"Anos\")\n",
        "plt.ylabel(\"Variacao (mm)\")\n",
        "plt.show()"
      ],
      "metadata": {
        "id": "QPlIGNLiq2DQ"
      },
      "execution_count": null,
      "outputs": []
    }
  ]
}