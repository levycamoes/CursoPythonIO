{
  "nbformat": 4,
  "nbformat_minor": 0,
  "metadata": {
    "colab": {
      "provenance": []
    },
    "kernelspec": {
      "name": "python3",
      "display_name": "Python 3"
    },
    "language_info": {
      "name": "python"
    }
  },
  "cells": [
    {
      "cell_type": "markdown",
      "source": [
        "Para declarar uma variável no Python, se utiliza a notação: nome_da_variável = variável.\n",
        "\n",
        "Existem diversos tipos principais de variáveis no Python, nesta aula trabalharemos os tipos: string, int e float."
      ],
      "metadata": {
        "id": "RENcUfRGQGrH"
      }
    },
    {
      "cell_type": "code",
      "source": [
        "sequencia_de_caracteres = \"Python\" # String\n",
        "numero_inteiro = 12 # Int\n",
        "numero_racional = 12.5 # Float"
      ],
      "metadata": {
        "id": "vfaoivFHQS5G"
      },
      "execution_count": 14,
      "outputs": []
    },
    {
      "cell_type": "markdown",
      "source": [
        "Além das variáveis, o Python possui o que chamamos de **Métodos**. Métodos no Python são funções da própria linguagem que performam ações específicas, por exemplo o método **print()**, que tem como função principal imprimir alguma coisa no terminal. Por exemplo:"
      ],
      "metadata": {
        "id": "rO9nhHtdQ7w_"
      }
    },
    {
      "cell_type": "code",
      "source": [
        "print(sequencia_de_caracteres)\n",
        "print(numero_inteiro)\n",
        "print(numero_racional)"
      ],
      "metadata": {
        "colab": {
          "base_uri": "https://localhost:8080/"
        },
        "id": "Y1HFF1GbRQG3",
        "outputId": "c8a0e359-04ca-4fcd-8fc4-c27c54a91427"
      },
      "execution_count": 15,
      "outputs": [
        {
          "output_type": "stream",
          "name": "stdout",
          "text": [
            "Python\n",
            "12\n",
            "12.5\n"
          ]
        }
      ]
    },
    {
      "cell_type": "markdown",
      "source": [
        "Um outro importante método do Python que iremos utilizar nessa aula é o método **input**. Esse método tem como principal função solicitar ao usuário que forneça um valor para o computador."
      ],
      "metadata": {
        "id": "ky8QM4sGRsQf"
      }
    },
    {
      "cell_type": "code",
      "source": [
        "nome = str(input(\"Digite seu nome: \"))\n",
        "print(\"Seu nome é: \", nome)"
      ],
      "metadata": {
        "colab": {
          "base_uri": "https://localhost:8080/"
        },
        "id": "Xe9TV98AR2kn",
        "outputId": "e6d8127b-0ad1-48fa-ed45-09ca0af98f60"
      },
      "execution_count": 19,
      "outputs": [
        {
          "output_type": "stream",
          "name": "stdout",
          "text": [
            "Digite seu nome: Rafael\n",
            "Seu nome é:  Rafael\n"
          ]
        }
      ]
    },
    {
      "cell_type": "markdown",
      "source": [
        "Além dos métodos, o Python possui **operações** (soma, subtração, multiplicação, divisão, maior, menor, maior ou igual, menor ou igual), essas operações são realizadas da mesma forma que na matemática, com exceção das operações realizadas com strings:"
      ],
      "metadata": {
        "id": "dR6G2WjETSOP"
      }
    },
    {
      "cell_type": "code",
      "source": [
        "sobrenome = str(input(\"Digite seu sobrenome: \"))\n",
        "nome_completo = nome + sobrenome\n",
        "print(\"Seu nome completo é: \", nome_completo)"
      ],
      "metadata": {
        "colab": {
          "base_uri": "https://localhost:8080/"
        },
        "id": "Txf1Vl6BTjfG",
        "outputId": "340b7e45-4838-40d1-ceb8-2509dd9e968e"
      },
      "execution_count": 22,
      "outputs": [
        {
          "output_type": "stream",
          "name": "stdout",
          "text": [
            "Digite seu sobrenome: Camões\n",
            "Seu nome completo é:  RafaelCamões\n"
          ]
        }
      ]
    },
    {
      "cell_type": "markdown",
      "source": [
        "Note que, só é possível realizar a operação de soma em strings somente se os seus objetos que estão sendo somados são strings, não é possível somar uma string com um número inteiro, por exemplo."
      ],
      "metadata": {
        "id": "I01PmkQ7T6zY"
      }
    },
    {
      "cell_type": "code",
      "source": [
        "idade = 21\n",
        "nome_completo_idade = nome_completo + idade\n",
        "print(nome_completo_idade)"
      ],
      "metadata": {
        "colab": {
          "base_uri": "https://localhost:8080/",
          "height": 0
        },
        "collapsed": true,
        "id": "bftK-xgrUimH",
        "outputId": "f5a119c4-7ef1-4deb-dac9-91e3ffc1fca4"
      },
      "execution_count": 23,
      "outputs": [
        {
          "output_type": "error",
          "ename": "TypeError",
          "evalue": "can only concatenate str (not \"int\") to str",
          "traceback": [
            "\u001b[0;31m---------------------------------------------------------------------------\u001b[0m",
            "\u001b[0;31mTypeError\u001b[0m                                 Traceback (most recent call last)",
            "\u001b[0;32m<ipython-input-23-45e67154528c>\u001b[0m in \u001b[0;36m<cell line: 2>\u001b[0;34m()\u001b[0m\n\u001b[1;32m      1\u001b[0m \u001b[0midade\u001b[0m \u001b[0;34m=\u001b[0m \u001b[0;36m21\u001b[0m\u001b[0;34m\u001b[0m\u001b[0;34m\u001b[0m\u001b[0m\n\u001b[0;32m----> 2\u001b[0;31m \u001b[0mnome_completo_idade\u001b[0m \u001b[0;34m=\u001b[0m \u001b[0mnome_completo\u001b[0m \u001b[0;34m+\u001b[0m \u001b[0midade\u001b[0m\u001b[0;34m\u001b[0m\u001b[0;34m\u001b[0m\u001b[0m\n\u001b[0m\u001b[1;32m      3\u001b[0m \u001b[0mprint\u001b[0m\u001b[0;34m(\u001b[0m\u001b[0mnome_completo_idade\u001b[0m\u001b[0;34m)\u001b[0m\u001b[0;34m\u001b[0m\u001b[0;34m\u001b[0m\u001b[0m\n",
            "\u001b[0;31mTypeError\u001b[0m: can only concatenate str (not \"int\") to str"
          ]
        }
      ]
    },
    {
      "cell_type": "markdown",
      "source": [
        "Porém é possível realizar as operações matemáticas conhecidas entre números inteiros e números racionais:"
      ],
      "metadata": {
        "id": "OzgTBx6KUtqn"
      }
    },
    {
      "cell_type": "code",
      "source": [
        "a = 12\n",
        "b = 2.5"
      ],
      "metadata": {
        "id": "yfahjf5MUz0f"
      },
      "execution_count": 24,
      "outputs": []
    },
    {
      "cell_type": "code",
      "source": [
        "soma = a + b\n",
        "subtracao = a - b\n",
        "divisao = a / b\n",
        "divisao_inteira = a // b\n",
        "maior = a > b\n",
        "menor = a < b\n",
        "maior_igual = a >= b\n",
        "menor_igual = a <= b"
      ],
      "metadata": {
        "id": "ZCGeg_J6VYy7"
      },
      "execution_count": 25,
      "outputs": []
    },
    {
      "cell_type": "code",
      "source": [
        "print(soma)\n",
        "print(subtracao)\n",
        "print(divisao)\n",
        "print(divisao_inteira)\n",
        "print(maior)\n",
        "print(menor)\n",
        "print(maior_igual)\n",
        "print(menor_igual)"
      ],
      "metadata": {
        "colab": {
          "base_uri": "https://localhost:8080/"
        },
        "id": "wkyi6Dk4Vj5Y",
        "outputId": "93d79340-9519-4d16-81a4-f3a6f5f8f231"
      },
      "execution_count": 26,
      "outputs": [
        {
          "output_type": "stream",
          "name": "stdout",
          "text": [
            "14.5\n",
            "9.5\n",
            "4.8\n",
            "4.0\n",
            "True\n",
            "False\n",
            "True\n",
            "False\n"
          ]
        }
      ]
    },
    {
      "cell_type": "markdown",
      "source": [
        "Um outro método importante no Python é o método **while**, ele avalia alguma proposição dada pelo desenvolvedor, e caso essa proposição seja **verdadeira** ou **falsa**, o código deve realizar alguma operação específica. Note que, caso não seja definido um ponto de parada **break**, a sua proposição será sempre verdadeira, então o código irá rodar infinitamente até que ele seja impedido."
      ],
      "metadata": {
        "id": "fsbux3SfV-GQ"
      }
    },
    {
      "cell_type": "code",
      "source": [
        "while a > b:\n",
        "  print(\"a é maior do que b\")\n",
        "  break"
      ],
      "metadata": {
        "colab": {
          "base_uri": "https://localhost:8080/"
        },
        "id": "1WuPXvvEWNYG",
        "outputId": "277c9556-cb8b-49d9-a84d-5ae4503b925b"
      },
      "execution_count": 27,
      "outputs": [
        {
          "output_type": "stream",
          "name": "stdout",
          "text": [
            "a é maior do que b\n"
          ]
        }
      ]
    },
    {
      "cell_type": "markdown",
      "source": [
        "Invés de utilizar o método **break** para finalizar uma estrutura de repetição, como foi realizado acima, pode se usar uma nova variável, chamada **contador**, que se inicia em 0 e a cada repetição se soma em 1, até que pare quando atingir um valor pré-estabelecido **n**:"
      ],
      "metadata": {
        "id": "oIOa8XWkWmN8"
      }
    },
    {
      "cell_type": "code",
      "source": [
        "n = 5\n",
        "contador = 0\n",
        "\n",
        "while contador <= n:\n",
        "  print(contador)\n",
        "  contador += 1"
      ],
      "metadata": {
        "colab": {
          "base_uri": "https://localhost:8080/"
        },
        "id": "wdKnicnCW1du",
        "outputId": "09ef8762-a1ea-461a-af4b-b8c089c08ed2"
      },
      "execution_count": 28,
      "outputs": [
        {
          "output_type": "stream",
          "name": "stdout",
          "text": [
            "0\n",
            "1\n",
            "2\n",
            "3\n",
            "4\n",
            "5\n"
          ]
        }
      ]
    },
    {
      "cell_type": "markdown",
      "source": [
        "Agora, com os métodos e variáveis já definidos, podemos desenvolver alguns programas interessantes no Python:"
      ],
      "metadata": {
        "id": "YOnfT6yjXqx_"
      }
    },
    {
      "cell_type": "code",
      "source": [
        "# Exercício 1: Faça um programa que retorne a soma de todos os números de 0 até um número desejado n.\n",
        "n = 5\n",
        "contador = 0\n",
        "soma = 0\n",
        "\n",
        "while contador <= n:\n",
        "  soma += contador\n",
        "  contador += 1\n",
        "\n",
        "print(soma)"
      ],
      "metadata": {
        "colab": {
          "base_uri": "https://localhost:8080/"
        },
        "id": "6l2Tdec9X0IX",
        "outputId": "f14fe52f-a0bf-4861-bcbe-492d4abe26c6"
      },
      "execution_count": 32,
      "outputs": [
        {
          "output_type": "stream",
          "name": "stdout",
          "text": [
            "15\n"
          ]
        }
      ]
    },
    {
      "cell_type": "code",
      "source": [
        "# Exercício 2: Faça um programa que leia dois números e retorne o resto da divisão entre esses dois números.\n",
        "# c = a // b -> resto = a - (b * c)\n",
        "\n",
        "a = 8\n",
        "b = 3\n",
        "c = a // b\n",
        "resto = a - (b * c)\n",
        "print(resto)"
      ],
      "metadata": {
        "colab": {
          "base_uri": "https://localhost:8080/"
        },
        "id": "6OtBsdAoYCdz",
        "outputId": "be65f837-ec64-47dc-859e-0c9e227ff486"
      },
      "execution_count": 33,
      "outputs": [
        {
          "output_type": "stream",
          "name": "stdout",
          "text": [
            "2\n"
          ]
        }
      ]
    },
    {
      "cell_type": "code",
      "source": [
        "# O mesmo exercício pode ser feito utilizando estrutura de repetição while:\n",
        "\n",
        "resto = 0\n",
        "while resto != a - (b * c):\n",
        "  resto += 1\n",
        "print(resto)"
      ],
      "metadata": {
        "colab": {
          "base_uri": "https://localhost:8080/"
        },
        "id": "OusyKI7JfMl2",
        "outputId": "4e1ecb14-ab2b-401b-9813-e0477cccd42b"
      },
      "execution_count": 34,
      "outputs": [
        {
          "output_type": "stream",
          "name": "stdout",
          "text": [
            "2\n"
          ]
        }
      ]
    },
    {
      "cell_type": "code",
      "source": [
        "# Exercício 3: Faça um programa que leia um número n e retorne o valor de n!\n",
        "# n = 4 -> n! = 4 * 3 * 2 * 1\n",
        "\n",
        "n = int(input(\"Digite o valor de n: \"))\n",
        "f = 1 # Inicia-se em 1, pois se f = 0, 4! = 4 * 3 * 2 * 1 * 0 = 0\n",
        "\n",
        "while n >= 1:\n",
        "    f *= n\n",
        "    n -= 1\n",
        "\n",
        "print(f)"
      ],
      "metadata": {
        "colab": {
          "base_uri": "https://localhost:8080/"
        },
        "id": "cv0BasAZfb-h",
        "outputId": "4748ef5c-c30f-4497-ca50-f67aa96fd00f"
      },
      "execution_count": 3,
      "outputs": [
        {
          "output_type": "stream",
          "name": "stdout",
          "text": [
            "Digite o valor de n: 4\n",
            "24\n"
          ]
        }
      ]
    },
    {
      "cell_type": "code",
      "source": [],
      "metadata": {
        "id": "hQbIlmJHfjGA"
      },
      "execution_count": null,
      "outputs": []
    }
  ]
}