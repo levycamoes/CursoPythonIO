{
  "nbformat": 4,
  "nbformat_minor": 0,
  "metadata": {
    "colab": {
      "provenance": []
    },
    "kernelspec": {
      "name": "python3",
      "display_name": "Python 3"
    },
    "language_info": {
      "name": "python"
    }
  },
  "cells": [
    {
      "cell_type": "markdown",
      "source": [
        "Revisão da última aula:\n",
        "- Listas (ou arrays) são estruturas de dados que podem armazenar qualquer tipo de objeto;\n",
        "- Método slice pode ser utilizado para acessar elementos específicos de listas;\n",
        "- É possível trabalhar com listas, cujos elementos são outras listas, essas estruturas são chamadas de matrizes;\n",
        "- Também pode-se utilizar estruturas de repetição para percorrer listas e matrizes."
      ],
      "metadata": {
        "id": "pOM684kuzldj"
      }
    },
    {
      "cell_type": "markdown",
      "source": [
        "Para declarar uma lista no Python, utiliza-se a notação lista = [], onde o conteúdo da lista deve estar dentro dos colchetes. O conteúdo de uma lista pode ser qualquer tipo de variável, seja strings, ints, floats ou até mesmo outras listas."
      ],
      "metadata": {
        "id": "yThOZ2oLUqU8"
      }
    },
    {
      "cell_type": "code",
      "source": [
        "lista = [\"palavra\", 21, 98.512, [\"lista\", 12]]\n",
        "print(lista)"
      ],
      "metadata": {
        "id": "lQKQS1BeRWjy",
        "collapsed": true
      },
      "execution_count": null,
      "outputs": []
    },
    {
      "cell_type": "markdown",
      "source": [
        "Também pode-se utilizar o método slice (fatiar) para encontrar um elemento de uma lista. Neste exemplo, utiliza-se o método slice para imprimir o primeiro elemento da lista:"
      ],
      "metadata": {
        "id": "rHPsgXXcU7n_"
      }
    },
    {
      "cell_type": "code",
      "source": [
        "print(lista[0])"
      ],
      "metadata": {
        "id": "1KpoWXGfSEUr"
      },
      "execution_count": null,
      "outputs": []
    },
    {
      "cell_type": "markdown",
      "source": [
        "O método slice também pode ser utilizado para strings, com a mesma notação. Neste exemplo, utiliza o método slice para inverter uma string:"
      ],
      "metadata": {
        "id": "hFKWL8_aVP-B"
      }
    },
    {
      "cell_type": "code",
      "source": [
        "nome = \"Rafael Levy\"\n",
        "print(nome[::-1])"
      ],
      "metadata": {
        "id": "Uhqca_lzSv_6"
      },
      "execution_count": null,
      "outputs": []
    },
    {
      "cell_type": "markdown",
      "source": [
        "Outras importantes estruturas de dados comumente utilizadas no python são as matrizes, as matrizes são listas, cujo todos os seus elementos são compostos por outras listas. O exemplo abaixo definde-se uma matriz com três linhas e duas colunas, ou seja, matriz 3x2:"
      ],
      "metadata": {
        "id": "ofY4bPPzVZwo"
      }
    },
    {
      "cell_type": "code",
      "source": [
        "matriz = [[2,1],\n",
        "          [2,2],\n",
        "          [5,4]]"
      ],
      "metadata": {
        "id": "61BtjQC_Tv-B"
      },
      "execution_count": null,
      "outputs": []
    },
    {
      "cell_type": "markdown",
      "source": [
        "Para acessar os elementos das matrizes, deve se utilizar uma estrutura de repetição dupla, onde a primeira estrutura de repetição percorre pelas linhas da matriz, e a segunda estrutura de repetição percorre pelas suas colunas:"
      ],
      "metadata": {
        "id": "ZKle7LRiVtz5"
      }
    },
    {
      "cell_type": "code",
      "source": [
        "for linha in matriz:\n",
        "  for coluna in linha:\n",
        "    print(coluna)"
      ],
      "metadata": {
        "id": "ituOeTDTVWMb"
      },
      "execution_count": null,
      "outputs": []
    },
    {
      "cell_type": "markdown",
      "source": [
        "Para a aula de hoje:\n",
        "- Método **isinstance(elemento, tipo)**;\n",
        "- Método slice para encontrar elementos de uma lista;\n",
        "- Estruturas de repetição para encontrar elementos de uma lista;\n",
        "- Ordenação de listas;\n",
        "- Mais conteúdos sobre matrizes e estruturas de repetição duplas para matrizes;\n",
        "- Operações matemáticas sobre matrizes;\n",
        "- Método slice para operar sobre matrizes;\n",
        "- Funções."
      ],
      "metadata": {
        "id": "u6vuzmEP2_LB"
      }
    },
    {
      "cell_type": "markdown",
      "source": [
        "Um interessante método do python é o método isinstance(variável, tipo da variável), ele é interessante para verificar se uma variável é de um tipo específico, se sim, o método retorna True, se não, retorna False, por exemplo:"
      ],
      "metadata": {
        "id": "Wr7GCavTWQhp"
      }
    },
    {
      "cell_type": "code",
      "source": [
        "nome = \"Rafael Levy\"\n",
        "print(isinstance(nome, str))"
      ],
      "metadata": {
        "id": "a3sP03G5WOvQ"
      },
      "execution_count": null,
      "outputs": []
    },
    {
      "cell_type": "markdown",
      "source": [
        "Ele pode ser utilizado para remover elementos de tipos específicos de uma matriz utilizando um método de condicional if, ou seja, avalia se um elemento é de um determinado tipo, se retornar True, ele deve adicionar ou remover o elemento utilizando o método append() ou remove():"
      ],
      "metadata": {
        "id": "iOqH0taKW-2w"
      }
    },
    {
      "cell_type": "code",
      "source": [
        "lista = [\"palavra1\", \"palavra2\", \"palavra3\", 0, 1, 2, 3]\n",
        "auxiliar = []\n",
        "\n",
        "for item in lista:\n",
        "  if isinstance(item, str):\n",
        "    auxiliar.append(item)\n",
        "\n",
        "print(auxiliar)"
      ],
      "metadata": {
        "colab": {
          "base_uri": "https://localhost:8080/"
        },
        "id": "9rD8lNVAWrma",
        "outputId": "ec91fb4c-1dd6-4005-d0b0-55e4e5dcbe0d"
      },
      "execution_count": 15,
      "outputs": [
        {
          "output_type": "stream",
          "name": "stdout",
          "text": [
            "['palavra1', 'palavra2', 'palavra3']\n"
          ]
        }
      ]
    },
    {
      "cell_type": "markdown",
      "source": [
        "Neste caso, o método isinstance() é mais útil do que apenas o método type(), pois ele retorna True ou False, a depender de uma condição específica."
      ],
      "metadata": {
        "id": "CZC646pvXs5A"
      }
    },
    {
      "cell_type": "code",
      "source": [
        "lista = [\"lista\", 12]\n",
        "print(type(lista))"
      ],
      "metadata": {
        "id": "eK8kZ4-xYA3b"
      },
      "execution_count": null,
      "outputs": []
    },
    {
      "cell_type": "markdown",
      "source": [
        "Como visto anteriormente,  matrizes são estruturas de dados que são constituídas exclusivamente de listas, tomando o exemplo abaixo, temos uma matriz onde o seu primeiro elemento é uma lista de nomes e o segundo elemento uma lista de números inteiros, utilizando uma estrutura de repetição, pode se acessar os elementos individuais de cada lista e ordenando de forma que retorne os nomes e os números inteiros referentes a cada elemento."
      ],
      "metadata": {
        "id": "qEEyOqoVX7Df"
      }
    },
    {
      "cell_type": "code",
      "source": [
        "matriz = [[\"Rafael\", \"Lucas\", \"Gabriel\", \"Gabriela\", \"Geovana\"], [21, 24, 32, 19, 20]]\n",
        "nomes = matriz[0]\n",
        "idades = matriz[1]\n",
        "\n",
        "for item in range(0, len(matriz[0])): # Estrutura de repetição em que o item é um número dentro do intervalo (0, len(matriz[0]))\n",
        "  print(nomes[item], idades[item])"
      ],
      "metadata": {
        "id": "kJdaHIvSYZ_4"
      },
      "execution_count": null,
      "outputs": []
    },
    {
      "cell_type": "markdown",
      "source": [
        "Como fazemos operações aritiméticas com matrizes?\n",
        "- i linhas, j colunas\n",
        "- matriz_a = (a_ij)\n",
        "- matriz_b = (b_ij)\n",
        "- matriz_a + matriz_b = (a_ij) + (b_ij)"
      ],
      "metadata": {
        "id": "762ddzPAa6bL"
      }
    },
    {
      "cell_type": "code",
      "source": [
        "matriz_a = [[1,1],\n",
        "            [2,2]]\n",
        "matriz_b = [[4,4],\n",
        "            [7,7]]\n",
        "matriz_c = [[0,0],\n",
        "            [0,0]]\n",
        "\n",
        "for linha in range(0, len(matriz_a)): # Primeira estrutura de repetição para acessar as linhas da matriz\n",
        "  for coluna in range(0, len(matriz_a[0])): # Segunda estrutura de repetição para acessar as colunas da matriz\n",
        "    matriz_c[linha][coluna] += matriz_a[linha][coluna]\n",
        "    matriz_c[linha][coluna] += matriz_b[linha][coluna]\n",
        "\n",
        "print(matriz_c)"
      ],
      "metadata": {
        "colab": {
          "base_uri": "https://localhost:8080/"
        },
        "id": "LNLicQsRbYZ5",
        "outputId": "73a42691-5d3d-4605-8352-0b4102f8ca45"
      },
      "execution_count": null,
      "outputs": [
        {
          "output_type": "stream",
          "name": "stdout",
          "text": [
            "[[5, 5], [9, 9]]\n"
          ]
        }
      ]
    },
    {
      "cell_type": "markdown",
      "source": [
        "Note que, nas estruturas de repetição acima, não importa for definida em um intervalo que vai de 0 até o tamanho da matriz_a ou de 0 até o tamanho da matriz_b, pois as duas matrizes, para serem somadas, necessariamente precisam ter a mesma dimensão."
      ],
      "metadata": {
        "id": "XE_8Kv2oZkH4"
      }
    },
    {
      "cell_type": "markdown",
      "source": [
        "Em diversas linguagens de programação, para códigos muito grandes que exigem múltiplos passos, é utilizado o conceito de **funções**. No Python, as funções são definidas de forma similar à matemática, ou seja:\n",
        "- Na matemática: f(x) = x^2, tomando f(2), deve-se obter o número 2^2 = 4\n",
        "- Em python é feito da mesma forma, porém utilizando a sintaxe **def f(x):** e o método return para dizer o que a sua função deve retornar, por exemplo:"
      ],
      "metadata": {
        "id": "hX8WbCWxey5A"
      }
    },
    {
      "cell_type": "code",
      "source": [
        "def f(x):\n",
        "  return (x ** 2) + (x ** 3) + 2 # Um polinômio de grau 3, tal que p(x) = x^2 + x^3 + 2\n",
        "\n",
        "x0 = 2 # Ponto do polinômio\n",
        "print(f(x0))"
      ],
      "metadata": {
        "id": "XaKg9bG-fB8H"
      },
      "execution_count": null,
      "outputs": []
    },
    {
      "cell_type": "markdown",
      "source": [
        "Um bom exemplo e como as funções podem ser úteis para compartimentalizar um código com diferentes partes é uma calculadora que realiza operações entre dois números, x e y. Neste caso, são definidas 4 funções diferentes, uma para cada operação matemática, e ao final do código, pode se utilizar essas funções para atuar como operações matemáticas simples:"
      ],
      "metadata": {
        "id": "xNCPygPOagh4"
      }
    },
    {
      "cell_type": "code",
      "source": [
        "def soma(x, y):\n",
        "  return x + y\n",
        "\n",
        "def sub(x,y):\n",
        "  return x - y\n",
        "\n",
        "def mult(x,y):\n",
        "  return x * y\n",
        "\n",
        "def div(x,y):\n",
        "  return x // y\n",
        "\n",
        "print(soma(2, 3))\n",
        "print(div(8, 2))"
      ],
      "metadata": {
        "id": "hwXsJ9CSgANA"
      },
      "execution_count": null,
      "outputs": []
    },
    {
      "cell_type": "markdown",
      "source": [
        "Agora, podemos fazer os seguintes exercícios:"
      ],
      "metadata": {
        "id": "kqttAuJmdu9A"
      }
    },
    {
      "cell_type": "code",
      "source": [
        "# Exercício 1: Faça uma função que leia uma matriz de nomes e idades e retorne o nome e idade da pessoa\n",
        "\n",
        "def nomes_idades(matriz):\n",
        "    nomes = matriz[0]\n",
        "    idades = matriz[1]\n",
        "    result = []\n",
        "    for i in range(0, len(nomes)):\n",
        "        result.append((nomes[i], idades[i]))\n",
        "    return result\n",
        "\n",
        "matriz_nomes = [['Ana', 'Bruno', 'Carlos', 'Daniela', 'Eduardo', 'Fernanda', 'Gabriel', 'Helena', 'Igor', 'Juliana'],\n",
        "                [25, 34, 29, 22, 40, 31, 28, 26, 35, 23]]\n",
        "\n",
        "for item in nomes_idades(matriz_nomes):\n",
        "    print(item)"
      ],
      "metadata": {
        "id": "h2kB2h2UgjAm"
      },
      "execution_count": null,
      "outputs": []
    },
    {
      "cell_type": "code",
      "source": [
        "# Exercício 2: Faça uma função que retorne a soma de todos os números ímpares de uma lista\n",
        "# 5 / 2 = 2.5 -> 5 = 2*2 + resto, neste caso, resto = 1\n",
        "\n",
        "numeros = [0,1,2,3,4,5,6,7,8,9,10,11,12,13,14,15,16,17,18,19,20,21,22,23,24,25]\n",
        "\n",
        "def resto(x, y):\n",
        "  div = x // y\n",
        "  return x - (div * y)\n",
        "\n",
        "def soma_impares(lista):\n",
        "  soma = 0\n",
        "  for item in lista:\n",
        "    if resto(item, 2) != 0: # Verifica se o resto da divisão do elemento por 2 é diferente de zero, se for o caso, é um número ímpar.\n",
        "      soma += item\n",
        "\n",
        "  return soma\n",
        "\n",
        "print(soma_impares(numeros))"
      ],
      "metadata": {
        "id": "PKG2ZYZ6iPmY"
      },
      "execution_count": null,
      "outputs": []
    }
  ]
}
