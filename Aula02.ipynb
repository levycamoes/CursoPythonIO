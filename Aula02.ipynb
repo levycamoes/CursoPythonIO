{
  "nbformat": 4,
  "nbformat_minor": 0,
  "metadata": {
    "colab": {
      "provenance": []
    },
    "kernelspec": {
      "name": "python3",
      "display_name": "Python 3"
    },
    "language_info": {
      "name": "python"
    }
  },
  "cells": [
    {
      "cell_type": "markdown",
      "source": [
        "Resumo da última aula:\n",
        "- Variáveis: nome_da_variável = valor_da_variável;\n",
        "- Tipos de variáveis: strings, ints, floats;\n",
        "- Métodos: print(), input(), while (proposição):, contadores, operações matemáticas, for item in variável;\n",
        "- Estrutura de repetição: **loops**, rodar o mesmo código várias vezes;\n"
      ],
      "metadata": {
        "id": "hpaJXtNqiGsI"
      }
    },
    {
      "cell_type": "markdown",
      "source": [
        "O exemplo abaixo, apresentado na última aula, mostra uma estrurua de repetição que avalia a condição de contador, que se inicia em 0 e vai até um valor **n**. O código deve retornar a soma de todos os números inteiros entre 0 e **n**."
      ],
      "metadata": {
        "id": "VMtEefZuR6NE"
      }
    },
    {
      "cell_type": "code",
      "source": [
        "n = 7\n",
        "contador = 0\n",
        "soma = 0\n",
        "\n",
        "while contador <= n:\n",
        "  soma += contador\n",
        "  contador += 1\n",
        "\n",
        "print(soma)"
      ],
      "metadata": {
        "id": "d89oTHHaJ8Oe"
      },
      "execution_count": null,
      "outputs": []
    },
    {
      "cell_type": "markdown",
      "source": [
        "Abaixo pode-se notar a diferença entre os dois códigos, que devem retornar o mesmo valor, porém utilizando métodos diferentes, um é muito mais sucinto e eficiente do que o outro."
      ],
      "metadata": {
        "id": "EhhSS31VSF1E"
      }
    },
    {
      "cell_type": "code",
      "source": [
        "n = 7\n",
        "soma = 0\n",
        "\n",
        "for item in range(0, n+1):\n",
        "  soma += item\n",
        "\n",
        "print(soma)"
      ],
      "metadata": {
        "id": "o3gf2jgPLBWX"
      },
      "execution_count": null,
      "outputs": []
    },
    {
      "cell_type": "markdown",
      "source": [
        "Para a aula de hoje:\n",
        "- Github, google colab;\n",
        "- Revisão de while e contadores;\n",
        "- For item in string, int e float -> converter int e float para string usando o método str();\n",
        "- Método len() -> Retorna o tamanho de um objeto;\n",
        "- Método for item in range() -> intervalo para estrutura de repetição;\n",
        "- Estrutura de dados listas (ou arrays), bem como estruturas de repetição para listas;\n",
        "- Método slice (fatiar) para listas e strings;\n",
        "- Método .append() para incluir um item em uma lista;\n",
        "- Método .remove() para remover um item de uma lista;\n",
        "- Método if e else."
      ],
      "metadata": {
        "id": "ouvpbkkSjqV5"
      }
    },
    {
      "cell_type": "code",
      "source": [
        "numero = 12748784127718238712877312837812\n",
        "contador = 0\n",
        "\n",
        "for item in str(numero):\n",
        "  contador += 1\n",
        "\n",
        "print(contador)"
      ],
      "metadata": {
        "id": "c2ptzqxBMb6k"
      },
      "execution_count": null,
      "outputs": []
    },
    {
      "cell_type": "markdown",
      "source": [
        "Método python: len() -> lenght -> comprimento. É utilizado quando se quer saber o comprimento de uma string (ou lista), sem utilizar loops e contadores."
      ],
      "metadata": {
        "id": "O2c5sR98NsEy"
      }
    },
    {
      "cell_type": "code",
      "source": [
        "numero = 12748784127718238712877312837812\n",
        "tamanho = len(str(numero))\n",
        "print(tamanho)"
      ],
      "metadata": {
        "id": "wQs9XGW8N04t"
      },
      "execution_count": null,
      "outputs": []
    },
    {
      "cell_type": "code",
      "source": [
        "nome = \"idsajdlsakjdsakljldskajjdiwaljlsk\"\n",
        "print(len(nome))"
      ],
      "metadata": {
        "id": "8E56MtSvOR48"
      },
      "execution_count": null,
      "outputs": []
    },
    {
      "cell_type": "markdown",
      "source": [
        "Uma lista, ou array, é um tipo de variável do python, que se comporta também como uma estrurua de dados, dentro dela pode ser armazenada **qualquer** tipo de variável. Tome o exemplo da lista abaixo, nela temos os quatro tipos de variáveis: ints, floats, strings e uma lista."
      ],
      "metadata": {
        "id": "REyeyRgNOhmT"
      }
    },
    {
      "cell_type": "code",
      "source": [
        "lista = [0, 1, 2, 3, 4, 5, 6, \"Rafael\", \"Levy\", 128.4, 98.1, 12.0, [\"lista nova\"]]\n",
        "print(lista)"
      ],
      "metadata": {
        "id": "5nkMUyWzOzVE"
      },
      "execution_count": null,
      "outputs": []
    },
    {
      "cell_type": "markdown",
      "source": [
        "Da mesma forma que pode se utilizar estruturas de repetição para percorrer strings e números, também pode-se utilizar para percorrer listas da mesma forma:"
      ],
      "metadata": {
        "id": "pBW-VuDwbz4f"
      }
    },
    {
      "cell_type": "code",
      "source": [
        "lista = [\"Rafael\", \"Levy\"]\n",
        "\n",
        "for item in lista:\n",
        "  print(item)"
      ],
      "metadata": {
        "id": "J7uWIM3jPbkz"
      },
      "execution_count": null,
      "outputs": []
    },
    {
      "cell_type": "code",
      "source": [
        "lista = [\"Rafael Levy\", 21]\n",
        "\n",
        "for item in lista:\n",
        "  print(item)"
      ],
      "metadata": {
        "id": "P3vpXSTfQI6U"
      },
      "execution_count": null,
      "outputs": []
    },
    {
      "cell_type": "markdown",
      "source": [
        "Dois importantes  métodos utilizados para percorrer listas são os métodos **append** e **remove**, de forma que:\n",
        "append() -> Método que insere uma variável dentro uma lista\n",
        "remove() -> Método que remove uma variável de uma lista"
      ],
      "metadata": {
        "id": "Fk__SRVXQZqb"
      }
    },
    {
      "cell_type": "code",
      "source": [
        "lista = [\"Juliana\", \"Gabriela\"]\n",
        "nome1 = \"Rafael Levy\"\n",
        "nome2 = \"Daniel Leonardo\"\n",
        "\n",
        "lista.append(nome1) # Insere o nome \"Rafael Levy\" na lista\n",
        "lista.append(nome2) # Insere o nome \"Daniel Leonardo\" na lista\n",
        "\n",
        "lista.remove(nome1) # Remove o nome \"Rafael Levy\" da lista\n",
        "lista.remove(nome2) # Remove o nome \"Daniel Leonardo\" da lista\n",
        "\n",
        "print(lista)"
      ],
      "metadata": {
        "id": "VhTqoYcWQhlC"
      },
      "execution_count": null,
      "outputs": []
    },
    {
      "cell_type": "markdown",
      "source": [
        "O método **len()** também pode ser utilizado para obter o comprimento de uma lista:"
      ],
      "metadata": {
        "id": "vaplabuucvZS"
      }
    },
    {
      "cell_type": "code",
      "source": [
        "lista = [\"Juliana\", \"Gabriela\", \"Rafael\", \"Leonardo\", 12, 53, 82, 109]\n",
        "print(len(lista))"
      ],
      "metadata": {
        "id": "bOAg6wFNRcJ5"
      },
      "execution_count": null,
      "outputs": []
    },
    {
      "cell_type": "markdown",
      "source": [
        "Um método importante para trabalhar com listas (e strings!) é o método slice, ele permite \"fatiar\" uma lista ou pegar um elemento específico da sua lista, esse método é utilizado de acordo com a sintaxe: lista[índice], ou seja, lista[0] deve retornar o primeiro elemento da lista. O código abaixo é um exemplo de como o método slice pode ser utilizado dentro de uma estrutura de repetição, para imprimir apenas os primeiros elementos da lista:"
      ],
      "metadata": {
        "id": "edaAgrmXSAey"
      }
    },
    {
      "cell_type": "code",
      "source": [
        "lista = [\"Rafael Levy\", \"Gabriela\", \"Simone\", \"Laura\", \"Thiago\", \"Daniel\"]\n",
        "\n",
        "for item in range(0, 3):\n",
        "  print(lista[item])"
      ],
      "metadata": {
        "id": "LUCPaYtTR9ri"
      },
      "execution_count": null,
      "outputs": []
    },
    {
      "cell_type": "markdown",
      "source": [
        "Uma forma interessante de se aplicar esse método é utilizando a notação lista[::-1], que retorna a mesma lista porém ordenada da forma inversa da lista original:"
      ],
      "metadata": {
        "id": "BQt3wTTes1Bb"
      }
    },
    {
      "cell_type": "code",
      "source": [
        "lista = [\"Rafael Levy\", \"Gabriela\", \"Simone\", \"Laura\", \"Thiago\", \"Daniel\"]\n",
        "tres = lista[::-1]\n",
        "print(tres)"
      ],
      "metadata": {
        "id": "IPHub8gcUIh6"
      },
      "execution_count": null,
      "outputs": []
    },
    {
      "cell_type": "markdown",
      "source": [
        "Aqui apresento um outro método importante quando trabalhamos com qualquer linguagem de programação: os métodos condicionais if e else, são abundantes em praticamente todos os códigos que devem avaliar condições e retornar saídas específicas para cada condição, o exemplo abaixo ilustra bem a avaliação da condição de um valor ser maior do que outro, caso a condição seja satisfeita, um valor é impresso no terminal, caso contrário, outro valor é impresso."
      ],
      "metadata": {
        "id": "8XsPXesmUqCL"
      }
    },
    {
      "cell_type": "code",
      "source": [
        "a = 12\n",
        "b = 9\n",
        "if a > b:\n",
        "  print(\"a é maior do que b\")\n",
        "else:\n",
        "  print(\"a não é maior do que b\")"
      ],
      "metadata": {
        "id": "xByZQhJ0U00Z"
      },
      "execution_count": null,
      "outputs": []
    },
    {
      "cell_type": "code",
      "source": [
        "# Exercício 1: Quantas vezes a palavra \"Python\" e a palavra \"Rust\" aparecem na lista de linguagens?\n",
        "\n",
        "linguagens = [\"Python\", \"Lua\", \"Java\", \"Rust\", \"Python\", \"Rust\", \"C\", \"Java\",\n",
        "        \"Javascript\", \"Python\", \"Python\", \"Lua\", \"Java\", \"Rust\", \"Python\",\n",
        "         \"Rust\", \"C\", \"Java\", \"Javascript\", \"Python\", \"Python\", \"Lua\", \"Java\",\n",
        "         \"Rust\", \"Python\", \"Rust\", \"C\", \"Java\", \"Javascript\", \"Python\",\n",
        "         \"Python\", \"Lua\", \"Java\", \"Rust\", \"Python\", \"Rust\", \"C\", \"Java\",\n",
        "         \"Javascript\", \"Python\", \"C\", \"Rust\", \"Javascript\", \"Java\", \"Pandas\",\n",
        "         \"Lua\", \"Ruby\", \"R\", \"Go\", \"Go\", \"Go\", \"R\", \"Rust\", \"Lua\", \"C\", \"Java\",\n",
        "         \"Lua\", \"Go\", \"Rust\", \"Java\", \"C\", \"C\", \"Python\", \"Rust\"]\n",
        "\n",
        "contador_python = 0\n",
        "contador_rust = 0\n",
        "\n",
        "for item in linguagens:\n",
        "  if item == \"Python\":\n",
        "    contador_python += 1\n",
        "  if item == \"Rust\":\n",
        "    contador_rust += 1\n",
        "\n",
        "print(\"A palavra Python aparece: \" , contador_python , \" vezes\")\n",
        "print(\"A palavra Rust aparece: \", contador_rust, \" vezes\")"
      ],
      "metadata": {
        "colab": {
          "base_uri": "https://localhost:8080/"
        },
        "id": "ppG1x27JVeAT",
        "outputId": "64746057-35b1-4f28-c87a-c4331d7d01a9"
      },
      "execution_count": null,
      "outputs": [
        {
          "output_type": "stream",
          "name": "stdout",
          "text": [
            "A palavra Python aparece:  13  vezes\n",
            "A palavra Rust aparece:  12  vezes\n"
          ]
        }
      ]
    },
    {
      "cell_type": "code",
      "source": [
        "# Dada uma lista, qual é a média dos elementos dessa lista?\n",
        "# Média = Soma / Número de Elementos\n",
        "\n",
        "numeros = [8, 3, 9, 9, 3, 5, 5, 6, 4, 7, 4, 3, 5, 3, 8, 8, 3, 7, 7, 5, 5, 4, 5,\n",
        "         7, 6, 4, 1, 5, 2, 8, 2, 1, 6, 9, 4, 5, 3, 2, 8, 2, 9, 5, 3, 5, 5, 3,\n",
        "         6, 8, 3, 5, 5, 9, 5, 5, 2, 4, 5, 8, 5, 2, 1, 9, 7, 8, 7, 2, 9, 4, 3,\n",
        "         3, 5, 7, 5, 4, 2, 9, 1, 3, 4, 1, 9, 1, 5, 1, 6, 2, 8, 8, 6, 2, 5, 6,\n",
        "         4, 8, 7, 9, 8, 4, 3, 6]\n",
        "\n",
        "tamanho = len(numeros)\n",
        "soma = 0 # 8 + 3 + 9 + 9 + 3...\n",
        "\n",
        "for item in numeros:\n",
        "  soma += item\n",
        "\n",
        "print(soma)\n",
        "\n",
        "media = soma / tamanho # 505 / 100 = 5.05\n",
        "print(media)"
      ],
      "metadata": {
        "id": "2lobQ2TOXn7r"
      },
      "execution_count": null,
      "outputs": []
    }
  ]
}